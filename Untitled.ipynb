{
 "cells": [
  {
   "cell_type": "code",
   "execution_count": 1,
   "id": "03055efc",
   "metadata": {
    "ExecuteTime": {
     "end_time": "2023-01-30T12:05:29.038107Z",
     "start_time": "2023-01-30T12:05:18.301114Z"
    },
    "scrolled": true
   },
   "outputs": [],
   "source": [
    "import gym\n",
    "from fourrooms import Fourrooms\n",
    "\n",
    "import matplotlib.pyplot as plt\n",
    "import matplotlib.patches as patches\n",
    "import matplotlib.animation as animation\n",
    "\n",
    "import numpy as np\n",
    "import argparse\n",
    "import torch\n",
    "from copy import deepcopy\n",
    "from argparse import Namespace\n",
    "\n",
    "from option_critic import OptionCriticFeatures, OptionCriticConv\n",
    "from option_critic import critic_loss as critic_loss_fn\n",
    "from option_critic import actor_loss as actor_loss_fn\n",
    "\n",
    "from logger import Logger\n",
    "from utils import to_tensor\n",
    "from environment import make_env\n",
    "from experience_replay import ReplayBuffer\n",
    "\n",
    "\n",
    "import time\n",
    "\n",
    "env, is_atari = make_env(\"ltl_fourrooms\", True)\n",
    "\n",
    "env.reset()\n",
    "for i in range(100):\n",
    "    action = env.action_space.sample()\n",
    "    env.step(action)\n",
    "    env.render()"
   ]
  },
  {
   "cell_type": "code",
   "execution_count": 2,
   "id": "b87574c6",
   "metadata": {
    "ExecuteTime": {
     "end_time": "2023-01-30T11:57:34.975654Z",
     "start_time": "2023-01-30T11:57:34.967952Z"
    }
   },
   "outputs": [
    {
     "data": {
      "text/plain": [
       "[0]"
      ]
     },
     "execution_count": 2,
     "metadata": {},
     "output_type": "execute_result"
    }
   ],
   "source": [
    "env.spec.states"
   ]
  },
  {
   "cell_type": "code",
   "execution_count": 3,
   "id": "b451968c",
   "metadata": {
    "ExecuteTime": {
     "end_time": "2023-01-30T11:57:35.452885Z",
     "start_time": "2023-01-30T11:57:34.977094Z"
    }
   },
   "outputs": [
    {
     "ename": "AttributeError",
     "evalue": "'Spec_Controller' object has no attribute 'delta'",
     "output_type": "error",
     "traceback": [
      "\u001b[0;31m---------------------------------------------------------------------------\u001b[0m",
      "\u001b[0;31mAttributeError\u001b[0m                            Traceback (most recent call last)",
      "Input \u001b[0;32mIn [3]\u001b[0m, in \u001b[0;36m<cell line: 1>\u001b[0;34m()\u001b[0m\n\u001b[0;32m----> 1\u001b[0m \u001b[43menv\u001b[49m\u001b[38;5;241;43m.\u001b[39;49m\u001b[43mspec\u001b[49m\u001b[38;5;241;43m.\u001b[39;49m\u001b[43mdelta\u001b[49m\n",
      "\u001b[0;31mAttributeError\u001b[0m: 'Spec_Controller' object has no attribute 'delta'"
     ]
    }
   ],
   "source": [
    "env.spec.delta"
   ]
  },
  {
   "cell_type": "code",
   "execution_count": null,
   "id": "8465fd63",
   "metadata": {
    "ExecuteTime": {
     "end_time": "2023-01-30T11:57:35.454601Z",
     "start_time": "2023-01-30T11:57:35.454587Z"
    }
   },
   "outputs": [],
   "source": [
    "env.spec.acc"
   ]
  },
  {
   "cell_type": "code",
   "execution_count": null,
   "id": "615d478c",
   "metadata": {
    "ExecuteTime": {
     "end_time": "2023-01-30T11:57:35.455620Z",
     "start_time": "2023-01-30T11:57:35.455610Z"
    }
   },
   "outputs": [],
   "source": [
    "env.spec.eps_actions"
   ]
  },
  {
   "cell_type": "code",
   "execution_count": null,
   "id": "9ed1f8ad",
   "metadata": {
    "ExecuteTime": {
     "end_time": "2023-01-30T11:57:35.456339Z",
     "start_time": "2023-01-30T11:57:35.456330Z"
    }
   },
   "outputs": [],
   "source": [
    "env.step((\"\"), )"
   ]
  },
  {
   "cell_type": "code",
   "execution_count": null,
   "id": "7cde9825",
   "metadata": {},
   "outputs": [],
   "source": []
  }
 ],
 "metadata": {
  "kernelspec": {
   "display_name": "Python 3 (ipykernel)",
   "language": "python",
   "name": "python3"
  },
  "language_info": {
   "codemirror_mode": {
    "name": "ipython",
    "version": 3
   },
   "file_extension": ".py",
   "mimetype": "text/x-python",
   "name": "python",
   "nbconvert_exporter": "python",
   "pygments_lexer": "ipython3",
   "version": "3.8.13"
  },
  "toc": {
   "base_numbering": 1,
   "nav_menu": {},
   "number_sections": true,
   "sideBar": true,
   "skip_h1_title": false,
   "title_cell": "Table of Contents",
   "title_sidebar": "Contents",
   "toc_cell": false,
   "toc_position": {},
   "toc_section_display": true,
   "toc_window_display": false
  }
 },
 "nbformat": 4,
 "nbformat_minor": 5
}
